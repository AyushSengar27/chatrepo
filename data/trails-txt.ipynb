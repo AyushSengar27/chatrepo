{
 "cells": [
  {
   "cell_type": "code",
   "execution_count": 2,
   "metadata": {},
   "outputs": [
    {
     "name": "stdout",
     "output_type": "stream",
     "text": [
      "qwerty\n"
     ]
    }
   ],
   "source": [
    "print(\"qwerty\")"
   ]
  },
  {
   "cell_type": "code",
   "execution_count": 3,
   "metadata": {},
   "outputs": [
    {
     "name": "stderr",
     "output_type": "stream",
     "text": [
      "c:\\Users\\ayush\\.conda\\envs\\chatbot\\lib\\site-packages\\pinecone\\data\\index.py:1: TqdmWarning: IProgress not found. Please update jupyter and ipywidgets. See https://ipywidgets.readthedocs.io/en/stable/user_install.html\n",
      "  from tqdm.autonotebook import tqdm\n"
     ]
    }
   ],
   "source": [
    "from langchain import PromptTemplate\n",
    "from langchain.chains import RetrievalQA\n",
    "from langchain.embeddings import HuggingFaceEmbeddings\n",
    "from langchain.vectorstores import Pinecone \n",
    "from langchain_pinecone import PineconeVectorStore\n",
    "import pinecone\n",
    "from langchain.document_loaders import PyPDFLoader, DirectoryLoader\n",
    "from langchain.text_splitter import RecursiveCharacterTextSplitter\n",
    "from langchain.prompts import PromptTemplate\n",
    "from langchain.llms import CTransformers\n",
    "from langchain.document_loaders import CSVLoader"
   ]
  },
  {
   "cell_type": "code",
   "execution_count": 4,
   "metadata": {},
   "outputs": [],
   "source": [
    "import os"
   ]
  },
  {
   "cell_type": "code",
   "execution_count": 5,
   "metadata": {},
   "outputs": [],
   "source": [
    "os.environ['PINECONE_API_KEY'] = \"5c8d0e8e-4a48-4b6f-953f-e8cfad1c3f4e\"\n",
    "os.environ['PINECONE_INDEX_NAME'] = \"chatbot-rag\"\n"
   ]
  },
  {
   "cell_type": "code",
   "execution_count": 6,
   "metadata": {},
   "outputs": [],
   "source": [
    "from pathlib import Path"
   ]
  },
  {
   "cell_type": "code",
   "execution_count": 7,
   "metadata": {},
   "outputs": [],
   "source": [
    "PINECONE_API_KEY = \"5c8d0e8e-4a48-4b6f-953f-e8cfad1c3f4e\"\n",
    "PINECONE_INDEX = \"chatbot-rag\"\n",
    "INDEX_DIMENSIONS = 384"
   ]
  },
  {
   "cell_type": "code",
   "execution_count": 8,
   "metadata": {},
   "outputs": [],
   "source": [
    "filepath = Path(\"data\\data.csv\")"
   ]
  },
  {
   "cell_type": "code",
   "execution_count": 9,
   "metadata": {},
   "outputs": [],
   "source": [
    "loader = CSVLoader(file_path=filepath)"
   ]
  },
  {
   "cell_type": "code",
   "execution_count": 10,
   "metadata": {},
   "outputs": [],
   "source": [
    "data = loader.load()"
   ]
  },
  {
   "cell_type": "code",
   "execution_count": 197,
   "metadata": {},
   "outputs": [
    {
     "data": {
      "text/plain": [
       "Document(page_content='Year: 1981\\nCountry Name: Brazil\\nIndicator Name: Poverty headcount ratio at $2.15 a day (2017 PPP) (% of population)\\nIndicator Code: SI.POV.DDAY\\nSOURCE_NOTE: Poverty headcount ratio at $2.15 a day is the percentage of the population living on less than $2.15 a day at 2017 purchasing power adjusted prices. As a result of revisions in PPP exchange rates, poverty rates for individual countries cannot be compared with poverty rates reported in earlier editions.\\nSOURCE_ORGANIZATION: World Bank, Poverty and Inequality Platform. Data are based on primary household survey data obtained from government statistical agencies and World Bank country departments. Data for high-income economies are mostly from the Luxembourg Income Study database. For more information and methodology, please see http://pip.worldbank.org.\\nRegion: Latin America & Caribbean\\nIncomeGroup: Upper middle income\\nValue: 23.9', metadata={'source': 'data\\\\data.csv', 'row': 0})"
      ]
     },
     "execution_count": 197,
     "metadata": {},
     "output_type": "execute_result"
    }
   ],
   "source": [
    "data[0]"
   ]
  },
  {
   "cell_type": "code",
   "execution_count": 11,
   "metadata": {},
   "outputs": [
    {
     "data": {
      "text/plain": [
       "104"
      ]
     },
     "execution_count": 11,
     "metadata": {},
     "output_type": "execute_result"
    }
   ],
   "source": [
    "len(data)"
   ]
  },
  {
   "cell_type": "code",
   "execution_count": 12,
   "metadata": {},
   "outputs": [],
   "source": [
    "def text_split(extracted_data):\n",
    "    text_splitter = RecursiveCharacterTextSplitter(chunk_size = 1000, chunk_overlap = 90)\n",
    "    text_chunks = text_splitter.split_documents(extracted_data)\n",
    "\n",
    "    return text_chunks"
   ]
  },
  {
   "cell_type": "code",
   "execution_count": 13,
   "metadata": {},
   "outputs": [
    {
     "name": "stdout",
     "output_type": "stream",
     "text": [
      "Number of chunks: 104\n"
     ]
    }
   ],
   "source": [
    "text_chunks = text_split(data)\n",
    "print(\"Number of chunks:\", len(text_chunks))"
   ]
  },
  {
   "cell_type": "code",
   "execution_count": 14,
   "metadata": {},
   "outputs": [
    {
     "data": {
      "text/plain": [
       "Document(page_content='Year: 1982\\nCountry Name: Brazil\\nIndicator Name: Poverty headcount ratio at $2.15 a day (2017 PPP) (% of population)\\nIndicator Code: SI.POV.DDAY\\nSOURCE_NOTE: Poverty headcount ratio at $2.15 a day is the percentage of the population living on less than $2.15 a day at 2017 purchasing power adjusted prices. As a result of revisions in PPP exchange rates, poverty rates for individual countries cannot be compared with poverty rates reported in earlier editions.\\nSOURCE_ORGANIZATION: World Bank, Poverty and Inequality Platform. Data are based on primary household survey data obtained from government statistical agencies and World Bank country departments. Data for high-income economies are mostly from the Luxembourg Income Study database. For more information and methodology, please see http://pip.worldbank.org.\\nRegion: Latin America & Caribbean\\nIncomeGroup: Upper middle income\\nValue: 24.4', metadata={'source': 'data\\\\data.csv', 'row': 1})"
      ]
     },
     "execution_count": 14,
     "metadata": {},
     "output_type": "execute_result"
    }
   ],
   "source": [
    "text_chunks[1]"
   ]
  },
  {
   "cell_type": "code",
   "execution_count": 15,
   "metadata": {},
   "outputs": [],
   "source": [
    "def download_hugging_face_embeddings():\n",
    "    embeddings = HuggingFaceEmbeddings(model_name=\"sentence-transformers/all-MiniLM-L6-v2\")\n",
    "    return embeddings"
   ]
  },
  {
   "cell_type": "code",
   "execution_count": 16,
   "metadata": {},
   "outputs": [],
   "source": [
    "embeddings = download_hugging_face_embeddings()"
   ]
  },
  {
   "cell_type": "code",
   "execution_count": 17,
   "metadata": {},
   "outputs": [
    {
     "name": "stdout",
     "output_type": "stream",
     "text": [
      "Length 384\n"
     ]
    }
   ],
   "source": [
    "query_result = embeddings.embed_query(\"Sample\")\n",
    "print(\"Length\", len(query_result))"
   ]
  },
  {
   "cell_type": "code",
   "execution_count": 18,
   "metadata": {},
   "outputs": [],
   "source": [
    "index_name= PINECONE_INDEX\n",
    "\n",
    "#Creating Embeddings for Each of The Text Chunks & storing\n",
    "docsearch=PineconeVectorStore.from_texts([t.page_content for t in text_chunks], index_name=index_name,embedding=embeddings)"
   ]
  },
  {
   "cell_type": "code",
   "execution_count": 198,
   "metadata": {},
   "outputs": [
    {
     "name": "stdout",
     "output_type": "stream",
     "text": [
      "Result [Document(page_content='Year: 2010\\nCountry Name: Brazil\\nIndicator Name: Unemployment, total (% of total labor force) (modeled ILO estimate)\\nIndicator Code: SL.UEM.TOTL.ZS\\nSOURCE_NOTE: Unemployment refers to the share of the labor force that is without work but available for and seeking employment.\\nSOURCE_ORGANIZATION: International Labour Organization. “ILO Modelled Estimates and Projections database (ILOEST)” ILOSTAT. Accessed February 06, 2024. https://ilostat.ilo.org/data/.\\nRegion: Latin America & Caribbean\\nIncomeGroup: Upper middle income\\nValue: 8.426'), Document(page_content='Year: 2010\\nCountry Name: Brazil\\nIndicator Name: Unemployment, total (% of total labor force) (modeled ILO estimate)\\nIndicator Code: SL.UEM.TOTL.ZS\\nSOURCE_NOTE: Unemployment refers to the share of the labor force that is without work but available for and seeking employment.\\nSOURCE_ORGANIZATION: International Labour Organization. “ILO Modelled Estimates and Projections database (ILOEST)” ILOSTAT. Accessed February 06, 2024. https://ilostat.ilo.org/data/.\\nRegion: Latin America & Caribbean\\nIncomeGroup: Upper middle income\\nValue: 8.426'), Document(page_content='Year: 2010\\nCountry Name: Brazil\\nIndicator Name: Unemployment, total (% of total labor force) (modeled ILO estimate)\\nIndicator Code: SL.UEM.TOTL.ZS\\nSOURCE_NOTE: Unemployment refers to the share of the labor force that is without work but available for and seeking employment.\\nSOURCE_ORGANIZATION: International Labour Organization. “ILO Modelled Estimates and Projections database (ILOEST)” ILOSTAT. Accessed February 06, 2024. https://ilostat.ilo.org/data/.\\nRegion: Latin America & Caribbean\\nIncomeGroup: Upper middle income\\nValue: 8.426')]\n"
     ]
    }
   ],
   "source": [
    "\n",
    "query = \"People without jobs in 2010\"\n",
    "\n",
    "docs=docsearch.similarity_search(query, k=3)\n",
    "\n",
    "print(\"Result\", docs)"
   ]
  },
  {
   "cell_type": "code",
   "execution_count": 177,
   "metadata": {},
   "outputs": [],
   "source": [
    "prompt_template=\"\"\"\n",
    "Use the following pieces of information to answer the user's question.\n",
    "If you don't know the answer, just say that you don't know, don't try to make up an answer.\n",
    "\n",
    "Context: {context}\n",
    "Question: {question}\n",
    "\n",
    "Only return the helpful answer below and nothing else.\n",
    "Helpful answer:\n",
    "\"\"\""
   ]
  },
  {
   "cell_type": "code",
   "execution_count": 178,
   "metadata": {},
   "outputs": [],
   "source": [
    "PROMPT=PromptTemplate(template=prompt_template, input_variables=[\"context\", \"question\"])\n",
    "chain_type_kwargs={\"prompt\": PROMPT}"
   ]
  },
  {
   "cell_type": "code",
   "execution_count": 179,
   "metadata": {},
   "outputs": [],
   "source": [
    "llm=CTransformers(model=\"model/llama-2-7b-chat.ggmlv3.q4_0.bin\",\n",
    "                  model_type=\"llama\",\n",
    "                  config={'max_new_tokens':512,\n",
    "                          'temperature':0.3})"
   ]
  },
  {
   "cell_type": "code",
   "execution_count": 180,
   "metadata": {},
   "outputs": [],
   "source": [
    "# from langchain.schema.retriever import BaseRetriever, Document\n",
    "# from typing import List\n",
    "\n",
    "# class SimpleRetriever(BaseRetriever):\n",
    "#     def __init__(self, vector_store, k=5):\n",
    "#         self.vector_store = vector_store\n",
    "#         self.k = k\n",
    "\n",
    "#     def _get_relevant_documents(self, query: str) -> List[Document]:\n",
    "#         \"\"\"Retrieve documents based on embeddings similarity, limited to the top k results.\"\"\"\n",
    "#         # Assuming `vector_store` has a method `similarity_search` which takes a query and returns documents\n",
    "#         results = self.vector_store.similarity_search(query, k=self.k)\n",
    "#         return results\n",
    "\n",
    "#     async def _aget_relevant_documents(self, query: str) -> List[Document]:\n",
    "#         \"\"\"Asynchronous retrieval of documents.\"\"\"\n",
    "#         return await self.vector_store.similarity_search(query, k=self.k)\n"
   ]
  },
  {
   "cell_type": "code",
   "execution_count": 181,
   "metadata": {},
   "outputs": [],
   "source": [
    "from typing import List, Optional, Any  # Adding 'Any' to the import\n",
    "from langchain.schema import Document, BaseRetriever\n",
    "from pydantic import BaseModel, Field"
   ]
  },
  {
   "cell_type": "code",
   "execution_count": 182,
   "metadata": {},
   "outputs": [],
   "source": [
    "# from pydantic import BaseModel, Field\n",
    "# from typing import List, Optional\n",
    "# from langchain.schema import Document, BaseRetriever\n",
    "\n",
    "# class SimpleRetriever(BaseRetriever):\n",
    "#     vector_store: Any  # Specify the correct type if known, else use `Any`\n",
    "#     k: int = Field(default=5, description=\"The number of documents to retrieve\")\n",
    "\n",
    "#     def _get_relevant_documents(self, query: str) -> List[Document]:\n",
    "#         \"\"\"Retrieve documents based on embeddings similarity, limited to the top k results.\"\"\"\n",
    "#         # Simulate fetching documents based on a query\n",
    "#         # This is where you'd normally interact with the vector store\n",
    "#         return self.vector_store.get_relevant_documents(query, k=self.k)\n",
    "\n",
    "#     async def _aget_relevant_documents(self, query: str) -> List[Document]:\n",
    "#         \"\"\"Asynchronously retrieve documents.\"\"\"\n",
    "#         return await self.vector_store.get_relevant_documents(query, k=self.k)\n"
   ]
  },
  {
   "cell_type": "code",
   "execution_count": 183,
   "metadata": {},
   "outputs": [],
   "source": [
    "from langchain.schema import Document, BaseRetriever\n",
    "from typing import List, Any\n",
    "from pydantic import BaseModel, Field\n",
    "\n",
    "class SimpleRetriever(BaseRetriever):\n",
    "    vector_store: Any  # Specify the correct type if known, else use `Any`\n",
    "    k: int = Field(default=5, description=\"The number of documents to retrieve\")\n",
    "\n",
    "    def _get_relevant_documents(self, query: str) -> List[Document]:\n",
    "        \"\"\"Retrieve documents based on embeddings similarity, limited to the top k results using cosine similarity.\"\"\"\n",
    "        return self.vector_store.similarity_search(query=query, k=self.k)\n",
    "\n",
    "    async def _aget_relevant_documents(self, query: str) -> List[Document]:\n",
    "        \"\"\"Asynchronously retrieve documents using cosine similarity.\"\"\"\n",
    "        return await self.vector_store.similarity_search(query=query, k=self.k)\n"
   ]
  },
  {
   "cell_type": "code",
   "execution_count": 184,
   "metadata": {},
   "outputs": [],
   "source": [
    "# from langchain.schema import Document, BaseRetriever\n",
    "# from typing import List, Any\n",
    "# from pydantic import BaseModel, Field\n",
    "\n",
    "# class SimpleRetriever(BaseRetriever):\n",
    "#     vector_store: Any  # Specify the correct type if known, else use `Any`\n",
    "#     k: int = Field(default=5, description=\"The number of documents to retrieve\")\n",
    "\n",
    "#     def _get_relevant_documents(self, query: str) -> List[Document]:\n",
    "#         \"\"\"Retrieve documents based on embeddings similarity, limited to the top k results using cosine similarity.\"\"\"\n",
    "#         return self.vector_store.search(query=query, k=self.k, search_type='similarity')\n",
    "\n",
    "#     async def _aget_relevant_documents(self, query: str) -> List[Document]:\n",
    "#         \"\"\"Asynchronously retrieve documents using cosine similarity.\"\"\"\n",
    "#         return await self.vector_store.search(query=query, k=self.k, search_type='similarity')\n"
   ]
  },
  {
   "cell_type": "code",
   "execution_count": 185,
   "metadata": {},
   "outputs": [],
   "source": [
    "# Assuming docsearch is already set up as an instance of PineconeVectorStore\n",
    "simple_retriever = SimpleRetriever(vector_store=docsearch, k=3)\n"
   ]
  },
  {
   "cell_type": "code",
   "execution_count": 193,
   "metadata": {},
   "outputs": [],
   "source": [
    "doc = simple_retriever._get_relevant_documents(\"number of internet users in 2012\")"
   ]
  },
  {
   "cell_type": "code",
   "execution_count": 194,
   "metadata": {},
   "outputs": [
    {
     "data": {
      "text/plain": [
       "[Document(page_content='Year: 2012\\nCountry Name: Brazil\\nIndicator Name: Individuals using the Internet (% of population)\\nIndicator Code: IT.NET.USER.ZS\\nSOURCE_NOTE: Internet users are individuals who have used the Internet (from any location) in the last 3 months. The Internet can be used via a computer, mobile phone, personal digital assistant, games machine, digital TV etc.\\nSOURCE_ORGANIZATION: International Telecommunication Union (ITU) World Telecommunication/ICT Indicators Database\\nRegion: Latin America & Caribbean\\nIncomeGroup: Upper middle income\\nValue: 48.56'),\n",
       " Document(page_content='Year: 2012\\nCountry Name: Brazil\\nIndicator Name: Individuals using the Internet (% of population)\\nIndicator Code: IT.NET.USER.ZS\\nSOURCE_NOTE: Internet users are individuals who have used the Internet (from any location) in the last 3 months. The Internet can be used via a computer, mobile phone, personal digital assistant, games machine, digital TV etc.\\nSOURCE_ORGANIZATION: International Telecommunication Union (ITU) World Telecommunication/ICT Indicators Database\\nRegion: Latin America & Caribbean\\nIncomeGroup: Upper middle income\\nValue: 48.56'),\n",
       " Document(page_content='Year: 2012\\nCountry Name: Brazil\\nIndicator Name: Individuals using the Internet (% of population)\\nIndicator Code: IT.NET.USER.ZS\\nSOURCE_NOTE: Internet users are individuals who have used the Internet (from any location) in the last 3 months. The Internet can be used via a computer, mobile phone, personal digital assistant, games machine, digital TV etc.\\nSOURCE_ORGANIZATION: International Telecommunication Union (ITU) World Telecommunication/ICT Indicators Database\\nRegion: Latin America & Caribbean\\nIncomeGroup: Upper middle income\\nValue: 48.56')]"
      ]
     },
     "execution_count": 194,
     "metadata": {},
     "output_type": "execute_result"
    }
   ],
   "source": [
    "doc"
   ]
  },
  {
   "cell_type": "code",
   "execution_count": 199,
   "metadata": {},
   "outputs": [],
   "source": [
    "qa = RetrievalQA.from_chain_type(  \n",
    "    llm=llm,  \n",
    "    chain_type=\"stuff\",  \n",
    "    retriever=simple_retriever,\n",
    "    #chain_type_kwargs=chain_type_kwargs \n",
    ")  "
   ]
  },
  {
   "cell_type": "code",
   "execution_count": 200,
   "metadata": {},
   "outputs": [],
   "source": [
    "\n",
    "user_input=input(f\"Input Prompt:\")\n"
   ]
  },
  {
   "cell_type": "code",
   "execution_count": 201,
   "metadata": {},
   "outputs": [
    {
     "name": "stdout",
     "output_type": "stream",
     "text": [
      "Response :   What is: No: Yes | Asked Questions: What percentage of the following the following the following the following the following the question: Brazil's: What is:\n",
      "What was provided by Country: What is: What is: Does anyone knows the following the following the following the following the following the following the following the following the following the following guidelic:\n",
      "What is: No.\n"
     ]
    }
   ],
   "source": [
    "result=qa({\"query\": user_input})\n",
    "print(\"Response : \", result[\"result\"])"
   ]
  },
  {
   "cell_type": "code",
   "execution_count": null,
   "metadata": {},
   "outputs": [],
   "source": []
  }
 ],
 "metadata": {
  "kernelspec": {
   "display_name": "chatbotRAG",
   "language": "python",
   "name": "python3"
  },
  "language_info": {
   "codemirror_mode": {
    "name": "ipython",
    "version": 3
   },
   "file_extension": ".py",
   "mimetype": "text/x-python",
   "name": "python",
   "nbconvert_exporter": "python",
   "pygments_lexer": "ipython3",
   "version": "3.8.19"
  }
 },
 "nbformat": 4,
 "nbformat_minor": 2
}
