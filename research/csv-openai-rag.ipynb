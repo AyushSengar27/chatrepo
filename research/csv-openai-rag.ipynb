{
 "cells": [
  {
   "cell_type": "code",
   "execution_count": 1,
   "metadata": {},
   "outputs": [
    {
     "name": "stdout",
     "output_type": "stream",
     "text": [
      "qwerty\n"
     ]
    }
   ],
   "source": [
    "print(\"qwerty\")"
   ]
  },
  {
   "cell_type": "code",
   "execution_count": 2,
   "metadata": {},
   "outputs": [
    {
     "name": "stderr",
     "output_type": "stream",
     "text": [
      "c:\\Users\\ayush\\.conda\\envs\\chatbot\\lib\\site-packages\\pinecone\\data\\index.py:1: TqdmWarning: IProgress not found. Please update jupyter and ipywidgets. See https://ipywidgets.readthedocs.io/en/stable/user_install.html\n",
      "  from tqdm.autonotebook import tqdm\n"
     ]
    }
   ],
   "source": [
    "from langchain import PromptTemplate\n",
    "from langchain.chains import RetrievalQA\n",
    "from langchain.embeddings import HuggingFaceEmbeddings\n",
    "from langchain.vectorstores import Pinecone \n",
    "from langchain_pinecone import PineconeVectorStore\n",
    "import pinecone\n",
    "from langchain.document_loaders import PyPDFLoader, DirectoryLoader\n",
    "from langchain.text_splitter import RecursiveCharacterTextSplitter\n",
    "from langchain.prompts import PromptTemplate\n",
    "from langchain.llms import CTransformers\n",
    "from langchain.document_loaders import CSVLoader"
   ]
  },
  {
   "cell_type": "code",
   "execution_count": 110,
   "metadata": {},
   "outputs": [],
   "source": [
    "from langchain.llms import OpenAI"
   ]
  },
  {
   "cell_type": "code",
   "execution_count": 128,
   "metadata": {},
   "outputs": [],
   "source": [
    "from langchain.chat_models import ChatOpenAI"
   ]
  },
  {
   "cell_type": "code",
   "execution_count": 74,
   "metadata": {},
   "outputs": [],
   "source": [
    "from langchain_openai import OpenAIEmbeddings"
   ]
  },
  {
   "cell_type": "code",
   "execution_count": 3,
   "metadata": {},
   "outputs": [],
   "source": [
    "import os"
   ]
  },
  {
   "cell_type": "code",
   "execution_count": 77,
   "metadata": {},
   "outputs": [],
   "source": [
    "os.environ[\"OPENAI_API_KEY\"] = "
   ]
  },
  {
   "cell_type": "code",
   "execution_count": 80,
   "metadata": {},
   "outputs": [],
   "source": [
    "os.environ['PINECONE_API_KEY'] = \n",
    "os.environ['PINECONE_INDEX_NAME'] = \n"
   ]
  },
  {
   "cell_type": "code",
   "execution_count": 5,
   "metadata": {},
   "outputs": [],
   "source": [
    "from pathlib import Path"
   ]
  },
  {
   "cell_type": "code",
   "execution_count": 82,
   "metadata": {},
   "outputs": [],
   "source": [
    "PINECONE_API_KEY = \"5c8d0e8e-4a48-4b6f-953f-e8cfad1c3f4e\"\n",
    "PINECONE_INDEX = \"open-ai\"\n",
    "INDEX_DIMENSIONS = 1536"
   ]
  },
  {
   "cell_type": "code",
   "execution_count": 60,
   "metadata": {},
   "outputs": [],
   "source": [
    "def text_split(extracted_data):\n",
    "    text_splitter = RecursiveCharacterTextSplitter(chunk_size = 100, chunk_overlap = 20)\n",
    "    text_chunks = text_splitter.split_documents(extracted_data)\n",
    "\n",
    "    return text_chunks"
   ]
  },
  {
   "cell_type": "code",
   "execution_count": 61,
   "metadata": {},
   "outputs": [],
   "source": [
    "from langchain_community.document_loaders import TextLoader\n",
    "\n"
   ]
  },
  {
   "cell_type": "code",
   "execution_count": 62,
   "metadata": {},
   "outputs": [],
   "source": [
    "loader = TextLoader(\"data\\output.txt\")\n",
    "txt_data= loader.load()"
   ]
  },
  {
   "cell_type": "code",
   "execution_count": 63,
   "metadata": {},
   "outputs": [
    {
     "name": "stdout",
     "output_type": "stream",
     "text": [
      "Number of chunks: 211\n"
     ]
    }
   ],
   "source": [
    "text_chunks = text_split(txt_data)\n",
    "print(\"Number of chunks:\", len(text_chunks))"
   ]
  },
  {
   "cell_type": "code",
   "execution_count": 64,
   "metadata": {},
   "outputs": [
    {
     "data": {
      "text/plain": [
       "[Document(page_content='Internet users in 1960 was Data not available in Brazil by International Telecommunication Union.', metadata={'source': 'data\\\\output.txt'}),\n",
       " Document(page_content='Union. Poverty in 1960 was Data not available  in Brazil by World Bank, Poverty and Inequality', metadata={'source': 'data\\\\output.txt'}),\n",
       " Document(page_content='and Inequality Platform. Unemployment in 1960 was Data not available  in Brazil by International', metadata={'source': 'data\\\\output.txt'}),\n",
       " Document(page_content='by International Labour Organization. Internet users in 1961 was Data not available in Brazil by', metadata={'source': 'data\\\\output.txt'}),\n",
       " Document(page_content='in Brazil by International Telecommunication Union. Poverty in 1961 was Data not available  in', metadata={'source': 'data\\\\output.txt'}),\n",
       " Document(page_content='not available  in Brazil by World Bank, Poverty and Inequality Platform. Unemployment in 1961 was', metadata={'source': 'data\\\\output.txt'}),\n",
       " Document(page_content='in 1961 was Data not available  in Brazil by International Labour Organization. Internet users in', metadata={'source': 'data\\\\output.txt'}),\n",
       " Document(page_content='Internet users in 1962 was Data not available in Brazil by International Telecommunication Union.', metadata={'source': 'data\\\\output.txt'}),\n",
       " Document(page_content='Union. Poverty in 1962 was Data not available  in Brazil by World Bank, Poverty and Inequality', metadata={'source': 'data\\\\output.txt'}),\n",
       " Document(page_content='and Inequality Platform. Unemployment in 1962 was Data not available  in Brazil by International', metadata={'source': 'data\\\\output.txt'}),\n",
       " Document(page_content='by International Labour Organization. Internet users in 1963 was Data not available in Brazil by', metadata={'source': 'data\\\\output.txt'}),\n",
       " Document(page_content='in Brazil by International Telecommunication Union. Poverty in 1963 was Data not available  in', metadata={'source': 'data\\\\output.txt'}),\n",
       " Document(page_content='not available  in Brazil by World Bank, Poverty and Inequality Platform. Unemployment in 1963 was', metadata={'source': 'data\\\\output.txt'}),\n",
       " Document(page_content='in 1963 was Data not available  in Brazil by International Labour Organization. Internet users in', metadata={'source': 'data\\\\output.txt'}),\n",
       " Document(page_content='Internet users in 1964 was Data not available in Brazil by International Telecommunication Union.', metadata={'source': 'data\\\\output.txt'}),\n",
       " Document(page_content='Union. Poverty in 1964 was Data not available  in Brazil by World Bank, Poverty and Inequality', metadata={'source': 'data\\\\output.txt'}),\n",
       " Document(page_content='and Inequality Platform. Unemployment in 1964 was Data not available  in Brazil by International', metadata={'source': 'data\\\\output.txt'}),\n",
       " Document(page_content='by International Labour Organization. Internet users in 1965 was Data not available in Brazil by', metadata={'source': 'data\\\\output.txt'}),\n",
       " Document(page_content='in Brazil by International Telecommunication Union. Poverty in 1965 was Data not available  in', metadata={'source': 'data\\\\output.txt'}),\n",
       " Document(page_content='not available  in Brazil by World Bank, Poverty and Inequality Platform. Unemployment in 1965 was', metadata={'source': 'data\\\\output.txt'}),\n",
       " Document(page_content='in 1965 was Data not available  in Brazil by International Labour Organization. Internet users in', metadata={'source': 'data\\\\output.txt'}),\n",
       " Document(page_content='Internet users in 1966 was Data not available in Brazil by International Telecommunication Union.', metadata={'source': 'data\\\\output.txt'}),\n",
       " Document(page_content='Union. Poverty in 1966 was Data not available  in Brazil by World Bank, Poverty and Inequality', metadata={'source': 'data\\\\output.txt'}),\n",
       " Document(page_content='and Inequality Platform. Unemployment in 1966 was Data not available  in Brazil by International', metadata={'source': 'data\\\\output.txt'}),\n",
       " Document(page_content='by International Labour Organization. Internet users in 1967 was Data not available in Brazil by', metadata={'source': 'data\\\\output.txt'}),\n",
       " Document(page_content='in Brazil by International Telecommunication Union. Poverty in 1967 was Data not available  in', metadata={'source': 'data\\\\output.txt'}),\n",
       " Document(page_content='not available  in Brazil by World Bank, Poverty and Inequality Platform. Unemployment in 1967 was', metadata={'source': 'data\\\\output.txt'}),\n",
       " Document(page_content='in 1967 was Data not available  in Brazil by International Labour Organization. Internet users in', metadata={'source': 'data\\\\output.txt'}),\n",
       " Document(page_content='Internet users in 1968 was Data not available in Brazil by International Telecommunication Union.', metadata={'source': 'data\\\\output.txt'}),\n",
       " Document(page_content='Union. Poverty in 1968 was Data not available  in Brazil by World Bank, Poverty and Inequality', metadata={'source': 'data\\\\output.txt'}),\n",
       " Document(page_content='and Inequality Platform. Unemployment in 1968 was Data not available  in Brazil by International', metadata={'source': 'data\\\\output.txt'}),\n",
       " Document(page_content='by International Labour Organization. Internet users in 1969 was Data not available in Brazil by', metadata={'source': 'data\\\\output.txt'}),\n",
       " Document(page_content='in Brazil by International Telecommunication Union. Poverty in 1969 was Data not available  in', metadata={'source': 'data\\\\output.txt'}),\n",
       " Document(page_content='not available  in Brazil by World Bank, Poverty and Inequality Platform. Unemployment in 1969 was', metadata={'source': 'data\\\\output.txt'}),\n",
       " Document(page_content='in 1969 was Data not available  in Brazil by International Labour Organization. Internet users in', metadata={'source': 'data\\\\output.txt'}),\n",
       " Document(page_content='Internet users in 1970 was Data not available in Brazil by International Telecommunication Union.', metadata={'source': 'data\\\\output.txt'}),\n",
       " Document(page_content='Union. Poverty in 1970 was Data not available  in Brazil by World Bank, Poverty and Inequality', metadata={'source': 'data\\\\output.txt'}),\n",
       " Document(page_content='and Inequality Platform. Unemployment in 1970 was Data not available  in Brazil by International', metadata={'source': 'data\\\\output.txt'}),\n",
       " Document(page_content='by International Labour Organization. Internet users in 1971 was Data not available in Brazil by', metadata={'source': 'data\\\\output.txt'}),\n",
       " Document(page_content='in Brazil by International Telecommunication Union. Poverty in 1971 was Data not available  in', metadata={'source': 'data\\\\output.txt'}),\n",
       " Document(page_content='not available  in Brazil by World Bank, Poverty and Inequality Platform. Unemployment in 1971 was', metadata={'source': 'data\\\\output.txt'}),\n",
       " Document(page_content='in 1971 was Data not available  in Brazil by International Labour Organization. Internet users in', metadata={'source': 'data\\\\output.txt'}),\n",
       " Document(page_content='Internet users in 1972 was Data not available in Brazil by International Telecommunication Union.', metadata={'source': 'data\\\\output.txt'}),\n",
       " Document(page_content='Union. Poverty in 1972 was Data not available  in Brazil by World Bank, Poverty and Inequality', metadata={'source': 'data\\\\output.txt'}),\n",
       " Document(page_content='and Inequality Platform. Unemployment in 1972 was Data not available  in Brazil by International', metadata={'source': 'data\\\\output.txt'}),\n",
       " Document(page_content='by International Labour Organization. Internet users in 1973 was Data not available in Brazil by', metadata={'source': 'data\\\\output.txt'}),\n",
       " Document(page_content='in Brazil by International Telecommunication Union. Poverty in 1973 was Data not available  in', metadata={'source': 'data\\\\output.txt'}),\n",
       " Document(page_content='not available  in Brazil by World Bank, Poverty and Inequality Platform. Unemployment in 1973 was', metadata={'source': 'data\\\\output.txt'}),\n",
       " Document(page_content='in 1973 was Data not available  in Brazil by International Labour Organization. Internet users in', metadata={'source': 'data\\\\output.txt'}),\n",
       " Document(page_content='Internet users in 1974 was Data not available in Brazil by International Telecommunication Union.', metadata={'source': 'data\\\\output.txt'}),\n",
       " Document(page_content='Union. Poverty in 1974 was Data not available  in Brazil by World Bank, Poverty and Inequality', metadata={'source': 'data\\\\output.txt'}),\n",
       " Document(page_content='and Inequality Platform. Unemployment in 1974 was Data not available  in Brazil by International', metadata={'source': 'data\\\\output.txt'}),\n",
       " Document(page_content='by International Labour Organization. Internet users in 1975 was Data not available in Brazil by', metadata={'source': 'data\\\\output.txt'}),\n",
       " Document(page_content='in Brazil by International Telecommunication Union. Poverty in 1975 was Data not available  in', metadata={'source': 'data\\\\output.txt'}),\n",
       " Document(page_content='not available  in Brazil by World Bank, Poverty and Inequality Platform. Unemployment in 1975 was', metadata={'source': 'data\\\\output.txt'}),\n",
       " Document(page_content='in 1975 was Data not available  in Brazil by International Labour Organization. Internet users in', metadata={'source': 'data\\\\output.txt'}),\n",
       " Document(page_content='Internet users in 1976 was Data not available in Brazil by International Telecommunication Union.', metadata={'source': 'data\\\\output.txt'}),\n",
       " Document(page_content='Union. Poverty in 1976 was Data not available  in Brazil by World Bank, Poverty and Inequality', metadata={'source': 'data\\\\output.txt'}),\n",
       " Document(page_content='and Inequality Platform. Unemployment in 1976 was Data not available  in Brazil by International', metadata={'source': 'data\\\\output.txt'}),\n",
       " Document(page_content='by International Labour Organization. Internet users in 1977 was Data not available in Brazil by', metadata={'source': 'data\\\\output.txt'}),\n",
       " Document(page_content='in Brazil by International Telecommunication Union. Poverty in 1977 was Data not available  in', metadata={'source': 'data\\\\output.txt'}),\n",
       " Document(page_content='not available  in Brazil by World Bank, Poverty and Inequality Platform. Unemployment in 1977 was', metadata={'source': 'data\\\\output.txt'}),\n",
       " Document(page_content='in 1977 was Data not available  in Brazil by International Labour Organization. Internet users in', metadata={'source': 'data\\\\output.txt'}),\n",
       " Document(page_content='Internet users in 1978 was Data not available in Brazil by International Telecommunication Union.', metadata={'source': 'data\\\\output.txt'}),\n",
       " Document(page_content='Union. Poverty in 1978 was Data not available  in Brazil by World Bank, Poverty and Inequality', metadata={'source': 'data\\\\output.txt'}),\n",
       " Document(page_content='and Inequality Platform. Unemployment in 1978 was Data not available  in Brazil by International', metadata={'source': 'data\\\\output.txt'}),\n",
       " Document(page_content='by International Labour Organization. Internet users in 1979 was Data not available in Brazil by', metadata={'source': 'data\\\\output.txt'}),\n",
       " Document(page_content='in Brazil by International Telecommunication Union. Poverty in 1979 was Data not available  in', metadata={'source': 'data\\\\output.txt'}),\n",
       " Document(page_content='not available  in Brazil by World Bank, Poverty and Inequality Platform. Unemployment in 1979 was', metadata={'source': 'data\\\\output.txt'}),\n",
       " Document(page_content='in 1979 was Data not available  in Brazil by International Labour Organization. Internet users in', metadata={'source': 'data\\\\output.txt'}),\n",
       " Document(page_content='Internet users in 1980 was Data not available in Brazil by International Telecommunication Union.', metadata={'source': 'data\\\\output.txt'}),\n",
       " Document(page_content='Union. Poverty in 1980 was Data not available  in Brazil by World Bank, Poverty and Inequality', metadata={'source': 'data\\\\output.txt'}),\n",
       " Document(page_content='and Inequality Platform. Unemployment in 1980 was Data not available  in Brazil by International', metadata={'source': 'data\\\\output.txt'}),\n",
       " Document(page_content='by International Labour Organization. Internet users in 1981 was Data not available in Brazil by', metadata={'source': 'data\\\\output.txt'}),\n",
       " Document(page_content='in Brazil by International Telecommunication Union. Poverty in 1981 was 23.9  in Brazil by World', metadata={'source': 'data\\\\output.txt'}),\n",
       " Document(page_content='in Brazil by World Bank, Poverty and Inequality Platform. Unemployment in 1981 was Data not', metadata={'source': 'data\\\\output.txt'}),\n",
       " Document(page_content='1981 was Data not available  in Brazil by International Labour Organization. Internet users in 1982', metadata={'source': 'data\\\\output.txt'}),\n",
       " Document(page_content='users in 1982 was Data not available in Brazil by International Telecommunication Union. Poverty in', metadata={'source': 'data\\\\output.txt'}),\n",
       " Document(page_content='Union. Poverty in 1982 was 24.4  in Brazil by World Bank, Poverty and Inequality Platform.', metadata={'source': 'data\\\\output.txt'}),\n",
       " Document(page_content='Platform. Unemployment in 1982 was Data not available  in Brazil by International Labour', metadata={'source': 'data\\\\output.txt'}),\n",
       " Document(page_content='Labour Organization. Internet users in 1983 was Data not available in Brazil by International', metadata={'source': 'data\\\\output.txt'}),\n",
       " Document(page_content='by International Telecommunication Union. Poverty in 1983 was 30.6  in Brazil by World Bank,', metadata={'source': 'data\\\\output.txt'}),\n",
       " Document(page_content='by World Bank, Poverty and Inequality Platform. Unemployment in 1983 was Data not available  in', metadata={'source': 'data\\\\output.txt'}),\n",
       " Document(page_content='not available  in Brazil by International Labour Organization. Internet users in 1984 was Data not', metadata={'source': 'data\\\\output.txt'}),\n",
       " Document(page_content='1984 was Data not available in Brazil by International Telecommunication Union. Poverty in 1984 was', metadata={'source': 'data\\\\output.txt'}),\n",
       " Document(page_content='Poverty in 1984 was 29.9  in Brazil by World Bank, Poverty and Inequality Platform. Unemployment in', metadata={'source': 'data\\\\output.txt'}),\n",
       " Document(page_content='Unemployment in 1984 was Data not available  in Brazil by International Labour Organization.', metadata={'source': 'data\\\\output.txt'}),\n",
       " Document(page_content='Organization. Internet users in 1985 was Data not available in Brazil by International', metadata={'source': 'data\\\\output.txt'}),\n",
       " Document(page_content='by International Telecommunication Union. Poverty in 1985 was 25.8  in Brazil by World Bank,', metadata={'source': 'data\\\\output.txt'}),\n",
       " Document(page_content='by World Bank, Poverty and Inequality Platform. Unemployment in 1985 was Data not available  in', metadata={'source': 'data\\\\output.txt'}),\n",
       " Document(page_content='not available  in Brazil by International Labour Organization. Internet users in 1986 was Data not', metadata={'source': 'data\\\\output.txt'}),\n",
       " Document(page_content='1986 was Data not available in Brazil by International Telecommunication Union. Poverty in 1986 was', metadata={'source': 'data\\\\output.txt'}),\n",
       " Document(page_content='Poverty in 1986 was 12.3  in Brazil by World Bank, Poverty and Inequality Platform. Unemployment in', metadata={'source': 'data\\\\output.txt'}),\n",
       " Document(page_content='Unemployment in 1986 was Data not available  in Brazil by International Labour Organization.', metadata={'source': 'data\\\\output.txt'}),\n",
       " Document(page_content='Organization. Internet users in 1987 was Data not available in Brazil by International', metadata={'source': 'data\\\\output.txt'}),\n",
       " Document(page_content='by International Telecommunication Union. Poverty in 1987 was 19.9  in Brazil by World Bank,', metadata={'source': 'data\\\\output.txt'}),\n",
       " Document(page_content='by World Bank, Poverty and Inequality Platform. Unemployment in 1987 was Data not available  in', metadata={'source': 'data\\\\output.txt'}),\n",
       " Document(page_content='not available  in Brazil by International Labour Organization. Internet users in 1988 was Data not', metadata={'source': 'data\\\\output.txt'}),\n",
       " Document(page_content='1988 was Data not available in Brazil by International Telecommunication Union. Poverty in 1988 was', metadata={'source': 'data\\\\output.txt'}),\n",
       " Document(page_content='Poverty in 1988 was 22.4  in Brazil by World Bank, Poverty and Inequality Platform. Unemployment in', metadata={'source': 'data\\\\output.txt'}),\n",
       " Document(page_content='Unemployment in 1988 was Data not available  in Brazil by International Labour Organization.', metadata={'source': 'data\\\\output.txt'}),\n",
       " Document(page_content='Organization. Internet users in 1989 was Data not available in Brazil by International', metadata={'source': 'data\\\\output.txt'}),\n",
       " Document(page_content='by International Telecommunication Union. Poverty in 1989 was 20.4  in Brazil by World Bank,', metadata={'source': 'data\\\\output.txt'}),\n",
       " Document(page_content='by World Bank, Poverty and Inequality Platform. Unemployment in 1989 was Data not available  in', metadata={'source': 'data\\\\output.txt'}),\n",
       " Document(page_content='not available  in Brazil by International Labour Organization. Internet users in 1990 was 0.0 in', metadata={'source': 'data\\\\output.txt'}),\n",
       " Document(page_content='in 1990 was 0.0 in Brazil by International Telecommunication Union. Poverty in 1990 was 24.0  in', metadata={'source': 'data\\\\output.txt'}),\n",
       " Document(page_content='1990 was 24.0  in Brazil by World Bank, Poverty and Inequality Platform. Unemployment in 1990 was', metadata={'source': 'data\\\\output.txt'}),\n",
       " Document(page_content='in 1990 was Data not available  in Brazil by International Labour Organization. Internet users in', metadata={'source': 'data\\\\output.txt'}),\n",
       " Document(page_content='Internet users in 1991 was 0.003288171 in Brazil by International Telecommunication Union. Poverty', metadata={'source': 'data\\\\output.txt'}),\n",
       " Document(page_content='Union. Poverty in 1991 was Data not available  in Brazil by World Bank, Poverty and Inequality', metadata={'source': 'data\\\\output.txt'}),\n",
       " Document(page_content='and Inequality Platform. Unemployment in 1991 was 6.254  in Brazil by International Labour', metadata={'source': 'data\\\\output.txt'}),\n",
       " Document(page_content='Labour Organization. Internet users in 1992 was 0.012946262 in Brazil by International', metadata={'source': 'data\\\\output.txt'}),\n",
       " Document(page_content='by International Telecommunication Union. Poverty in 1992 was 23.3  in Brazil by World Bank,', metadata={'source': 'data\\\\output.txt'}),\n",
       " Document(page_content='by World Bank, Poverty and Inequality Platform. Unemployment in 1992 was 6.42  in Brazil by', metadata={'source': 'data\\\\output.txt'}),\n",
       " Document(page_content='6.42  in Brazil by International Labour Organization. Internet users in 1993 was 0.025498253 in', metadata={'source': 'data\\\\output.txt'}),\n",
       " Document(page_content='was 0.025498253 in Brazil by International Telecommunication Union. Poverty in 1993 was 22.1  in', metadata={'source': 'data\\\\output.txt'}),\n",
       " Document(page_content='1993 was 22.1  in Brazil by World Bank, Poverty and Inequality Platform. Unemployment in 1993 was', metadata={'source': 'data\\\\output.txt'}),\n",
       " Document(page_content='in 1993 was 6.03  in Brazil by International Labour Organization. Internet users in 1994 was', metadata={'source': 'data\\\\output.txt'}),\n",
       " Document(page_content='users in 1994 was 0.037672709 in Brazil by International Telecommunication Union. Poverty in 1994', metadata={'source': 'data\\\\output.txt'}),\n",
       " Document(page_content='Poverty in 1994 was Data not available  in Brazil by World Bank, Poverty and Inequality Platform.', metadata={'source': 'data\\\\output.txt'}),\n",
       " Document(page_content='Platform. Unemployment in 1994 was 6.577  in Brazil by International Labour Organization. Internet', metadata={'source': 'data\\\\output.txt'}),\n",
       " Document(page_content='Internet users in 1995 was 0.105138168 in Brazil by International Telecommunication Union. Poverty', metadata={'source': 'data\\\\output.txt'}),\n",
       " Document(page_content='Union. Poverty in 1995 was 14.7  in Brazil by World Bank, Poverty and Inequality Platform.', metadata={'source': 'data\\\\output.txt'}),\n",
       " Document(page_content='Platform. Unemployment in 1995 was 7.09  in Brazil by International Labour Organization. Internet', metadata={'source': 'data\\\\output.txt'}),\n",
       " Document(page_content='Internet users in 1996 was 0.450789179 in Brazil by International Telecommunication Union. Poverty', metadata={'source': 'data\\\\output.txt'}),\n",
       " Document(page_content='Union. Poverty in 1996 was 16.0  in Brazil by World Bank, Poverty and Inequality Platform.', metadata={'source': 'data\\\\output.txt'}),\n",
       " Document(page_content='Platform. Unemployment in 1996 was 8.03  in Brazil by International Labour Organization. Internet', metadata={'source': 'data\\\\output.txt'}),\n",
       " Document(page_content='Internet users in 1997 was 0.786079155 in Brazil by International Telecommunication Union. Poverty', metadata={'source': 'data\\\\output.txt'}),\n",
       " Document(page_content='Union. Poverty in 1997 was 16.0  in Brazil by World Bank, Poverty and Inequality Platform.', metadata={'source': 'data\\\\output.txt'}),\n",
       " Document(page_content='Platform. Unemployment in 1997 was 9.0  in Brazil by International Labour Organization. Internet', metadata={'source': 'data\\\\output.txt'}),\n",
       " Document(page_content='Internet users in 1998 was 1.477874959 in Brazil by International Telecommunication Union. Poverty', metadata={'source': 'data\\\\output.txt'}),\n",
       " Document(page_content='Union. Poverty in 1998 was 14.3  in Brazil by World Bank, Poverty and Inequality Platform.', metadata={'source': 'data\\\\output.txt'}),\n",
       " Document(page_content='Platform. Unemployment in 1998 was 10.15  in Brazil by International Labour Organization. Internet', metadata={'source': 'data\\\\output.txt'}),\n",
       " Document(page_content='Internet users in 1999 was 2.038732184 in Brazil by International Telecommunication Union. Poverty', metadata={'source': 'data\\\\output.txt'}),\n",
       " Document(page_content='Union. Poverty in 1999 was 15.0  in Brazil by World Bank, Poverty and Inequality Platform.', metadata={'source': 'data\\\\output.txt'}),\n",
       " Document(page_content='Platform. Unemployment in 1999 was 11.13  in Brazil by International Labour Organization. Internet', metadata={'source': 'data\\\\output.txt'}),\n",
       " Document(page_content='Internet users in 2000 was 2.870685159 in Brazil by International Telecommunication Union. Poverty', metadata={'source': 'data\\\\output.txt'}),\n",
       " Document(page_content='Union. Poverty in 2000 was Data not available  in Brazil by World Bank, Poverty and Inequality', metadata={'source': 'data\\\\output.txt'}),\n",
       " Document(page_content='and Inequality Platform. Unemployment in 2000 was 10.894  in Brazil by International Labour', metadata={'source': 'data\\\\output.txt'}),\n",
       " Document(page_content='Labour Organization. Internet users in 2001 was 4.528494869 in Brazil by International', metadata={'source': 'data\\\\output.txt'}),\n",
       " Document(page_content='by International Telecommunication Union. Poverty in 2001 was 13.0  in Brazil by World Bank,', metadata={'source': 'data\\\\output.txt'}),\n",
       " Document(page_content='by World Bank, Poverty and Inequality Platform. Unemployment in 2001 was 10.65  in Brazil by', metadata={'source': 'data\\\\output.txt'}),\n",
       " Document(page_content='10.65  in Brazil by International Labour Organization. Internet users in 2002 was 9.149425086 in', metadata={'source': 'data\\\\output.txt'}),\n",
       " Document(page_content='was 9.149425086 in Brazil by International Telecommunication Union. Poverty in 2002 was 11.7  in', metadata={'source': 'data\\\\output.txt'}),\n",
       " Document(page_content='2002 was 11.7  in Brazil by World Bank, Poverty and Inequality Platform. Unemployment in 2002 was', metadata={'source': 'data\\\\output.txt'}),\n",
       " Document(page_content='in 2002 was 10.64  in Brazil by International Labour Organization. Internet users in 2003 was', metadata={'source': 'data\\\\output.txt'}),\n",
       " Document(page_content='users in 2003 was 13.2075861 in Brazil by International Telecommunication Union. Poverty in 2003', metadata={'source': 'data\\\\output.txt'}),\n",
       " Document(page_content='Poverty in 2003 was 12.6  in Brazil by World Bank, Poverty and Inequality Platform. Unemployment in', metadata={'source': 'data\\\\output.txt'}),\n",
       " Document(page_content='Unemployment in 2003 was 11.17  in Brazil by International Labour Organization. Internet users in', metadata={'source': 'data\\\\output.txt'}),\n",
       " Document(page_content='Internet users in 2004 was 19.07367227 in Brazil by International Telecommunication Union. Poverty', metadata={'source': 'data\\\\output.txt'}),\n",
       " Document(page_content='Union. Poverty in 2004 was 11.1  in Brazil by World Bank, Poverty and Inequality Platform.', metadata={'source': 'data\\\\output.txt'}),\n",
       " Document(page_content='Platform. Unemployment in 2004 was 10.07  in Brazil by International Labour Organization. Internet', metadata={'source': 'data\\\\output.txt'}),\n",
       " Document(page_content='Internet users in 2005 was 21.02274725 in Brazil by International Telecommunication Union. Poverty', metadata={'source': 'data\\\\output.txt'}),\n",
       " Document(page_content='Union. Poverty in 2005 was 10.0  in Brazil by World Bank, Poverty and Inequality Platform.', metadata={'source': 'data\\\\output.txt'}),\n",
       " Document(page_content='Platform. Unemployment in 2005 was 10.55  in Brazil by International Labour Organization. Internet', metadata={'source': 'data\\\\output.txt'}),\n",
       " Document(page_content='Internet users in 2006 was 28.17838018 in Brazil by International Telecommunication Union. Poverty', metadata={'source': 'data\\\\output.txt'}),\n",
       " Document(page_content='Union. Poverty in 2006 was 8.3  in Brazil by World Bank, Poverty and Inequality Platform.', metadata={'source': 'data\\\\output.txt'}),\n",
       " Document(page_content='Platform. Unemployment in 2006 was 9.69  in Brazil by International Labour Organization. Internet', metadata={'source': 'data\\\\output.txt'}),\n",
       " Document(page_content='Internet users in 2007 was 30.88 in Brazil by International Telecommunication Union. Poverty in', metadata={'source': 'data\\\\output.txt'}),\n",
       " Document(page_content='Union. Poverty in 2007 was 7.9  in Brazil by World Bank, Poverty and Inequality Platform.', metadata={'source': 'data\\\\output.txt'}),\n",
       " Document(page_content='Platform. Unemployment in 2007 was 9.28  in Brazil by International Labour Organization. Internet', metadata={'source': 'data\\\\output.txt'}),\n",
       " Document(page_content='Internet users in 2008 was 33.83 in Brazil by International Telecommunication Union. Poverty in', metadata={'source': 'data\\\\output.txt'}),\n",
       " Document(page_content='Union. Poverty in 2008 was 6.5  in Brazil by World Bank, Poverty and Inequality Platform.', metadata={'source': 'data\\\\output.txt'}),\n",
       " Document(page_content='Platform. Unemployment in 2008 was 8.27  in Brazil by International Labour Organization. Internet', metadata={'source': 'data\\\\output.txt'}),\n",
       " Document(page_content='Internet users in 2009 was 39.22 in Brazil by International Telecommunication Union. Poverty in', metadata={'source': 'data\\\\output.txt'}),\n",
       " Document(page_content='Union. Poverty in 2009 was 6.1  in Brazil by World Bank, Poverty and Inequality Platform.', metadata={'source': 'data\\\\output.txt'}),\n",
       " Document(page_content='Platform. Unemployment in 2009 was 9.42  in Brazil by International Labour Organization. Internet', metadata={'source': 'data\\\\output.txt'}),\n",
       " Document(page_content='Internet users in 2010 was 40.65 in Brazil by International Telecommunication Union. Poverty in', metadata={'source': 'data\\\\output.txt'}),\n",
       " Document(page_content='Union. Poverty in 2010 was Data not available  in Brazil by World Bank, Poverty and Inequality', metadata={'source': 'data\\\\output.txt'}),\n",
       " Document(page_content='and Inequality Platform. Unemployment in 2010 was 8.426  in Brazil by International Labour', metadata={'source': 'data\\\\output.txt'}),\n",
       " Document(page_content='Labour Organization. Internet users in 2011 was 45.69 in Brazil by International Telecommunication', metadata={'source': 'data\\\\output.txt'}),\n",
       " Document(page_content='Telecommunication Union. Poverty in 2011 was 5.3  in Brazil by World Bank, Poverty and Inequality', metadata={'source': 'data\\\\output.txt'}),\n",
       " Document(page_content='and Inequality Platform. Unemployment in 2011 was 7.58  in Brazil by International Labour', metadata={'source': 'data\\\\output.txt'}),\n",
       " Document(page_content='Labour Organization. Internet users in 2012 was 48.56 in Brazil by International Telecommunication', metadata={'source': 'data\\\\output.txt'}),\n",
       " Document(page_content='Telecommunication Union. Poverty in 2012 was 4.5  in Brazil by World Bank, Poverty and Inequality', metadata={'source': 'data\\\\output.txt'}),\n",
       " Document(page_content='and Inequality Platform. Unemployment in 2012 was 7.25  in Brazil by International Labour', metadata={'source': 'data\\\\output.txt'}),\n",
       " Document(page_content='Labour Organization. Internet users in 2013 was 51.04 in Brazil by International Telecommunication', metadata={'source': 'data\\\\output.txt'}),\n",
       " Document(page_content='Telecommunication Union. Poverty in 2013 was 3.7  in Brazil by World Bank, Poverty and Inequality', metadata={'source': 'data\\\\output.txt'}),\n",
       " Document(page_content='and Inequality Platform. Unemployment in 2013 was 7.07  in Brazil by International Labour', metadata={'source': 'data\\\\output.txt'}),\n",
       " Document(page_content='Labour Organization. Internet users in 2014 was 54.55100188 in Brazil by International', metadata={'source': 'data\\\\output.txt'}),\n",
       " Document(page_content='by International Telecommunication Union. Poverty in 2014 was 3.3  in Brazil by World Bank, Poverty', metadata={'source': 'data\\\\output.txt'}),\n",
       " Document(page_content='World Bank, Poverty and Inequality Platform. Unemployment in 2014 was 6.76  in Brazil by', metadata={'source': 'data\\\\output.txt'}),\n",
       " Document(page_content='6.76  in Brazil by International Labour Organization. Internet users in 2015 was 58.32795173 in', metadata={'source': 'data\\\\output.txt'}),\n",
       " Document(page_content='was 58.32795173 in Brazil by International Telecommunication Union. Poverty in 2015 was 3.9  in', metadata={'source': 'data\\\\output.txt'}),\n",
       " Document(page_content='in 2015 was 3.9  in Brazil by World Bank, Poverty and Inequality Platform. Unemployment in 2015 was', metadata={'source': 'data\\\\output.txt'}),\n",
       " Document(page_content='in 2015 was 8.54  in Brazil by International Labour Organization. Internet users in 2016 was', metadata={'source': 'data\\\\output.txt'}),\n",
       " Document(page_content='users in 2016 was 60.87254007 in Brazil by International Telecommunication Union. Poverty in 2016', metadata={'source': 'data\\\\output.txt'}),\n",
       " Document(page_content='Poverty in 2016 was 4.7  in Brazil by World Bank, Poverty and Inequality Platform. Unemployment in', metadata={'source': 'data\\\\output.txt'}),\n",
       " Document(page_content='Unemployment in 2016 was 11.58  in Brazil by International Labour Organization. Internet users in', metadata={'source': 'data\\\\output.txt'}),\n",
       " Document(page_content='Internet users in 2017 was 67.47128452 in Brazil by International Telecommunication Union. Poverty', metadata={'source': 'data\\\\output.txt'}),\n",
       " Document(page_content='Union. Poverty in 2017 was 5.3  in Brazil by World Bank, Poverty and Inequality Platform.', metadata={'source': 'data\\\\output.txt'}),\n",
       " Document(page_content='Platform. Unemployment in 2017 was 12.79  in Brazil by International Labour Organization. Internet', metadata={'source': 'data\\\\output.txt'}),\n",
       " Document(page_content='Internet users in 2018 was 70.43428254 in Brazil by International Telecommunication Union. Poverty', metadata={'source': 'data\\\\output.txt'}),\n",
       " Document(page_content='Union. Poverty in 2018 was 5.3  in Brazil by World Bank, Poverty and Inequality Platform.', metadata={'source': 'data\\\\output.txt'}),\n",
       " Document(page_content='Platform. Unemployment in 2018 was 12.33  in Brazil by International Labour Organization. Internet', metadata={'source': 'data\\\\output.txt'}),\n",
       " Document(page_content='Internet users in 2019 was 73.91243991 in Brazil by International Telecommunication Union. Poverty', metadata={'source': 'data\\\\output.txt'}),\n",
       " Document(page_content='Union. Poverty in 2019 was 5.4  in Brazil by World Bank, Poverty and Inequality Platform.', metadata={'source': 'data\\\\output.txt'}),\n",
       " Document(page_content='Platform. Unemployment in 2019 was 11.94  in Brazil by International Labour Organization. Internet', metadata={'source': 'data\\\\output.txt'}),\n",
       " Document(page_content='Internet users in 2020 was 81.34269353 in Brazil by International Telecommunication Union. Poverty', metadata={'source': 'data\\\\output.txt'}),\n",
       " Document(page_content='Union. Poverty in 2020 was 2.0  in Brazil by World Bank, Poverty and Inequality Platform.', metadata={'source': 'data\\\\output.txt'}),\n",
       " Document(page_content='Platform. Unemployment in 2020 was 13.7  in Brazil by International Labour Organization. Internet', metadata={'source': 'data\\\\output.txt'}),\n",
       " Document(page_content='Internet users in 2021 was 80.68989314 in Brazil by International Telecommunication Union. Poverty', metadata={'source': 'data\\\\output.txt'}),\n",
       " Document(page_content='Union. Poverty in 2021 was 5.8  in Brazil by World Bank, Poverty and Inequality Platform.', metadata={'source': 'data\\\\output.txt'}),\n",
       " Document(page_content='Platform. Unemployment in 2021 was 13.16  in Brazil by International Labour Organization. Internet', metadata={'source': 'data\\\\output.txt'}),\n",
       " Document(page_content='Internet users in 2022 was 80.52775094 in Brazil by International Telecommunication Union. Poverty', metadata={'source': 'data\\\\output.txt'}),\n",
       " Document(page_content='Union. Poverty in 2022 was 3.5  in Brazil by World Bank, Poverty and Inequality Platform.', metadata={'source': 'data\\\\output.txt'}),\n",
       " Document(page_content='Platform. Unemployment in 2022 was 9.23  in Brazil by International Labour Organization. Internet', metadata={'source': 'data\\\\output.txt'}),\n",
       " Document(page_content='Internet users in 2023 was Data not available in Brazil by International Telecommunication Union.', metadata={'source': 'data\\\\output.txt'}),\n",
       " Document(page_content='Union. Poverty in 2023 was Data not available  in Brazil by World Bank, Poverty and Inequality', metadata={'source': 'data\\\\output.txt'}),\n",
       " Document(page_content='and Inequality Platform. Unemployment in 2023 was 7.776  in Brazil by International Labour', metadata={'source': 'data\\\\output.txt'}),\n",
       " Document(page_content='Labour Organization.', metadata={'source': 'data\\\\output.txt'})]"
      ]
     },
     "execution_count": 64,
     "metadata": {},
     "output_type": "execute_result"
    }
   ],
   "source": [
    "text_chunks"
   ]
  },
  {
   "cell_type": "code",
   "execution_count": null,
   "metadata": {},
   "outputs": [],
   "source": []
  },
  {
   "cell_type": "code",
   "execution_count": 75,
   "metadata": {},
   "outputs": [],
   "source": [
    "def download_hugging_face_embeddings():\n",
    "    embeddings = OpenAIEmbeddings(model=\"text-embedding-3-small\")\n",
    "    return embeddings"
   ]
  },
  {
   "cell_type": "code",
   "execution_count": 78,
   "metadata": {},
   "outputs": [],
   "source": [
    "embeddings = download_hugging_face_embeddings()"
   ]
  },
  {
   "cell_type": "code",
   "execution_count": 79,
   "metadata": {},
   "outputs": [
    {
     "name": "stdout",
     "output_type": "stream",
     "text": [
      "Length 1536\n"
     ]
    }
   ],
   "source": [
    "query_result = embeddings.embed_query(\"Sample\")\n",
    "print(\"Length\", len(query_result))"
   ]
  },
  {
   "cell_type": "code",
   "execution_count": 83,
   "metadata": {},
   "outputs": [
    {
     "name": "stdout",
     "output_type": "stream",
     "text": [
      "Internet users in 1960 was Data not available in Brazil by International Telecommunication Union.\n",
      "Union. Poverty in 1960 was Data not available  in Brazil by World Bank, Poverty and Inequality\n",
      "and Inequality Platform. Unemployment in 1960 was Data not available  in Brazil by International\n",
      "by International Labour Organization. Internet users in 1961 was Data not available in Brazil by\n",
      "in Brazil by International Telecommunication Union. Poverty in 1961 was Data not available  in\n",
      "not available  in Brazil by World Bank, Poverty and Inequality Platform. Unemployment in 1961 was\n",
      "in 1961 was Data not available  in Brazil by International Labour Organization. Internet users in\n",
      "Internet users in 1962 was Data not available in Brazil by International Telecommunication Union.\n",
      "Union. Poverty in 1962 was Data not available  in Brazil by World Bank, Poverty and Inequality\n",
      "and Inequality Platform. Unemployment in 1962 was Data not available  in Brazil by International\n",
      "by International Labour Organization. Internet users in 1963 was Data not available in Brazil by\n",
      "in Brazil by International Telecommunication Union. Poverty in 1963 was Data not available  in\n",
      "not available  in Brazil by World Bank, Poverty and Inequality Platform. Unemployment in 1963 was\n",
      "in 1963 was Data not available  in Brazil by International Labour Organization. Internet users in\n",
      "Internet users in 1964 was Data not available in Brazil by International Telecommunication Union.\n",
      "Union. Poverty in 1964 was Data not available  in Brazil by World Bank, Poverty and Inequality\n",
      "and Inequality Platform. Unemployment in 1964 was Data not available  in Brazil by International\n",
      "by International Labour Organization. Internet users in 1965 was Data not available in Brazil by\n",
      "in Brazil by International Telecommunication Union. Poverty in 1965 was Data not available  in\n",
      "not available  in Brazil by World Bank, Poverty and Inequality Platform. Unemployment in 1965 was\n",
      "in 1965 was Data not available  in Brazil by International Labour Organization. Internet users in\n",
      "Internet users in 1966 was Data not available in Brazil by International Telecommunication Union.\n",
      "Union. Poverty in 1966 was Data not available  in Brazil by World Bank, Poverty and Inequality\n",
      "and Inequality Platform. Unemployment in 1966 was Data not available  in Brazil by International\n",
      "by International Labour Organization. Internet users in 1967 was Data not available in Brazil by\n",
      "in Brazil by International Telecommunication Union. Poverty in 1967 was Data not available  in\n",
      "not available  in Brazil by World Bank, Poverty and Inequality Platform. Unemployment in 1967 was\n",
      "in 1967 was Data not available  in Brazil by International Labour Organization. Internet users in\n",
      "Internet users in 1968 was Data not available in Brazil by International Telecommunication Union.\n",
      "Union. Poverty in 1968 was Data not available  in Brazil by World Bank, Poverty and Inequality\n",
      "and Inequality Platform. Unemployment in 1968 was Data not available  in Brazil by International\n",
      "by International Labour Organization. Internet users in 1969 was Data not available in Brazil by\n",
      "in Brazil by International Telecommunication Union. Poverty in 1969 was Data not available  in\n",
      "not available  in Brazil by World Bank, Poverty and Inequality Platform. Unemployment in 1969 was\n",
      "in 1969 was Data not available  in Brazil by International Labour Organization. Internet users in\n",
      "Internet users in 1970 was Data not available in Brazil by International Telecommunication Union.\n",
      "Union. Poverty in 1970 was Data not available  in Brazil by World Bank, Poverty and Inequality\n",
      "and Inequality Platform. Unemployment in 1970 was Data not available  in Brazil by International\n",
      "by International Labour Organization. Internet users in 1971 was Data not available in Brazil by\n",
      "in Brazil by International Telecommunication Union. Poverty in 1971 was Data not available  in\n",
      "not available  in Brazil by World Bank, Poverty and Inequality Platform. Unemployment in 1971 was\n",
      "in 1971 was Data not available  in Brazil by International Labour Organization. Internet users in\n",
      "Internet users in 1972 was Data not available in Brazil by International Telecommunication Union.\n",
      "Union. Poverty in 1972 was Data not available  in Brazil by World Bank, Poverty and Inequality\n",
      "and Inequality Platform. Unemployment in 1972 was Data not available  in Brazil by International\n",
      "by International Labour Organization. Internet users in 1973 was Data not available in Brazil by\n",
      "in Brazil by International Telecommunication Union. Poverty in 1973 was Data not available  in\n",
      "not available  in Brazil by World Bank, Poverty and Inequality Platform. Unemployment in 1973 was\n",
      "in 1973 was Data not available  in Brazil by International Labour Organization. Internet users in\n",
      "Internet users in 1974 was Data not available in Brazil by International Telecommunication Union.\n",
      "Union. Poverty in 1974 was Data not available  in Brazil by World Bank, Poverty and Inequality\n",
      "and Inequality Platform. Unemployment in 1974 was Data not available  in Brazil by International\n",
      "by International Labour Organization. Internet users in 1975 was Data not available in Brazil by\n",
      "in Brazil by International Telecommunication Union. Poverty in 1975 was Data not available  in\n",
      "not available  in Brazil by World Bank, Poverty and Inequality Platform. Unemployment in 1975 was\n",
      "in 1975 was Data not available  in Brazil by International Labour Organization. Internet users in\n",
      "Internet users in 1976 was Data not available in Brazil by International Telecommunication Union.\n",
      "Union. Poverty in 1976 was Data not available  in Brazil by World Bank, Poverty and Inequality\n",
      "and Inequality Platform. Unemployment in 1976 was Data not available  in Brazil by International\n",
      "by International Labour Organization. Internet users in 1977 was Data not available in Brazil by\n",
      "in Brazil by International Telecommunication Union. Poverty in 1977 was Data not available  in\n",
      "not available  in Brazil by World Bank, Poverty and Inequality Platform. Unemployment in 1977 was\n",
      "in 1977 was Data not available  in Brazil by International Labour Organization. Internet users in\n",
      "Internet users in 1978 was Data not available in Brazil by International Telecommunication Union.\n",
      "Union. Poverty in 1978 was Data not available  in Brazil by World Bank, Poverty and Inequality\n",
      "and Inequality Platform. Unemployment in 1978 was Data not available  in Brazil by International\n",
      "by International Labour Organization. Internet users in 1979 was Data not available in Brazil by\n",
      "in Brazil by International Telecommunication Union. Poverty in 1979 was Data not available  in\n",
      "not available  in Brazil by World Bank, Poverty and Inequality Platform. Unemployment in 1979 was\n",
      "in 1979 was Data not available  in Brazil by International Labour Organization. Internet users in\n",
      "Internet users in 1980 was Data not available in Brazil by International Telecommunication Union.\n",
      "Union. Poverty in 1980 was Data not available  in Brazil by World Bank, Poverty and Inequality\n",
      "and Inequality Platform. Unemployment in 1980 was Data not available  in Brazil by International\n",
      "by International Labour Organization. Internet users in 1981 was Data not available in Brazil by\n",
      "in Brazil by International Telecommunication Union. Poverty in 1981 was 23.9  in Brazil by World\n",
      "in Brazil by World Bank, Poverty and Inequality Platform. Unemployment in 1981 was Data not\n",
      "1981 was Data not available  in Brazil by International Labour Organization. Internet users in 1982\n",
      "users in 1982 was Data not available in Brazil by International Telecommunication Union. Poverty in\n",
      "Union. Poverty in 1982 was 24.4  in Brazil by World Bank, Poverty and Inequality Platform.\n",
      "Platform. Unemployment in 1982 was Data not available  in Brazil by International Labour\n",
      "Labour Organization. Internet users in 1983 was Data not available in Brazil by International\n",
      "by International Telecommunication Union. Poverty in 1983 was 30.6  in Brazil by World Bank,\n",
      "by World Bank, Poverty and Inequality Platform. Unemployment in 1983 was Data not available  in\n",
      "not available  in Brazil by International Labour Organization. Internet users in 1984 was Data not\n",
      "1984 was Data not available in Brazil by International Telecommunication Union. Poverty in 1984 was\n",
      "Poverty in 1984 was 29.9  in Brazil by World Bank, Poverty and Inequality Platform. Unemployment in\n",
      "Unemployment in 1984 was Data not available  in Brazil by International Labour Organization.\n",
      "Organization. Internet users in 1985 was Data not available in Brazil by International\n",
      "by International Telecommunication Union. Poverty in 1985 was 25.8  in Brazil by World Bank,\n",
      "by World Bank, Poverty and Inequality Platform. Unemployment in 1985 was Data not available  in\n",
      "not available  in Brazil by International Labour Organization. Internet users in 1986 was Data not\n",
      "1986 was Data not available in Brazil by International Telecommunication Union. Poverty in 1986 was\n",
      "Poverty in 1986 was 12.3  in Brazil by World Bank, Poverty and Inequality Platform. Unemployment in\n",
      "Unemployment in 1986 was Data not available  in Brazil by International Labour Organization.\n",
      "Organization. Internet users in 1987 was Data not available in Brazil by International\n",
      "by International Telecommunication Union. Poverty in 1987 was 19.9  in Brazil by World Bank,\n",
      "by World Bank, Poverty and Inequality Platform. Unemployment in 1987 was Data not available  in\n",
      "not available  in Brazil by International Labour Organization. Internet users in 1988 was Data not\n",
      "1988 was Data not available in Brazil by International Telecommunication Union. Poverty in 1988 was\n",
      "Poverty in 1988 was 22.4  in Brazil by World Bank, Poverty and Inequality Platform. Unemployment in\n",
      "Unemployment in 1988 was Data not available  in Brazil by International Labour Organization.\n",
      "Organization. Internet users in 1989 was Data not available in Brazil by International\n",
      "by International Telecommunication Union. Poverty in 1989 was 20.4  in Brazil by World Bank,\n",
      "by World Bank, Poverty and Inequality Platform. Unemployment in 1989 was Data not available  in\n",
      "not available  in Brazil by International Labour Organization. Internet users in 1990 was 0.0 in\n",
      "in 1990 was 0.0 in Brazil by International Telecommunication Union. Poverty in 1990 was 24.0  in\n",
      "1990 was 24.0  in Brazil by World Bank, Poverty and Inequality Platform. Unemployment in 1990 was\n",
      "in 1990 was Data not available  in Brazil by International Labour Organization. Internet users in\n",
      "Internet users in 1991 was 0.003288171 in Brazil by International Telecommunication Union. Poverty\n",
      "Union. Poverty in 1991 was Data not available  in Brazil by World Bank, Poverty and Inequality\n",
      "and Inequality Platform. Unemployment in 1991 was 6.254  in Brazil by International Labour\n",
      "Labour Organization. Internet users in 1992 was 0.012946262 in Brazil by International\n",
      "by International Telecommunication Union. Poverty in 1992 was 23.3  in Brazil by World Bank,\n",
      "by World Bank, Poverty and Inequality Platform. Unemployment in 1992 was 6.42  in Brazil by\n",
      "6.42  in Brazil by International Labour Organization. Internet users in 1993 was 0.025498253 in\n",
      "was 0.025498253 in Brazil by International Telecommunication Union. Poverty in 1993 was 22.1  in\n",
      "1993 was 22.1  in Brazil by World Bank, Poverty and Inequality Platform. Unemployment in 1993 was\n",
      "in 1993 was 6.03  in Brazil by International Labour Organization. Internet users in 1994 was\n",
      "users in 1994 was 0.037672709 in Brazil by International Telecommunication Union. Poverty in 1994\n",
      "Poverty in 1994 was Data not available  in Brazil by World Bank, Poverty and Inequality Platform.\n",
      "Platform. Unemployment in 1994 was 6.577  in Brazil by International Labour Organization. Internet\n",
      "Internet users in 1995 was 0.105138168 in Brazil by International Telecommunication Union. Poverty\n",
      "Union. Poverty in 1995 was 14.7  in Brazil by World Bank, Poverty and Inequality Platform.\n",
      "Platform. Unemployment in 1995 was 7.09  in Brazil by International Labour Organization. Internet\n",
      "Internet users in 1996 was 0.450789179 in Brazil by International Telecommunication Union. Poverty\n",
      "Union. Poverty in 1996 was 16.0  in Brazil by World Bank, Poverty and Inequality Platform.\n",
      "Platform. Unemployment in 1996 was 8.03  in Brazil by International Labour Organization. Internet\n",
      "Internet users in 1997 was 0.786079155 in Brazil by International Telecommunication Union. Poverty\n",
      "Union. Poverty in 1997 was 16.0  in Brazil by World Bank, Poverty and Inequality Platform.\n",
      "Platform. Unemployment in 1997 was 9.0  in Brazil by International Labour Organization. Internet\n",
      "Internet users in 1998 was 1.477874959 in Brazil by International Telecommunication Union. Poverty\n",
      "Union. Poverty in 1998 was 14.3  in Brazil by World Bank, Poverty and Inequality Platform.\n",
      "Platform. Unemployment in 1998 was 10.15  in Brazil by International Labour Organization. Internet\n",
      "Internet users in 1999 was 2.038732184 in Brazil by International Telecommunication Union. Poverty\n",
      "Union. Poverty in 1999 was 15.0  in Brazil by World Bank, Poverty and Inequality Platform.\n",
      "Platform. Unemployment in 1999 was 11.13  in Brazil by International Labour Organization. Internet\n",
      "Internet users in 2000 was 2.870685159 in Brazil by International Telecommunication Union. Poverty\n",
      "Union. Poverty in 2000 was Data not available  in Brazil by World Bank, Poverty and Inequality\n",
      "and Inequality Platform. Unemployment in 2000 was 10.894  in Brazil by International Labour\n",
      "Labour Organization. Internet users in 2001 was 4.528494869 in Brazil by International\n",
      "by International Telecommunication Union. Poverty in 2001 was 13.0  in Brazil by World Bank,\n",
      "by World Bank, Poverty and Inequality Platform. Unemployment in 2001 was 10.65  in Brazil by\n",
      "10.65  in Brazil by International Labour Organization. Internet users in 2002 was 9.149425086 in\n",
      "was 9.149425086 in Brazil by International Telecommunication Union. Poverty in 2002 was 11.7  in\n",
      "2002 was 11.7  in Brazil by World Bank, Poverty and Inequality Platform. Unemployment in 2002 was\n",
      "in 2002 was 10.64  in Brazil by International Labour Organization. Internet users in 2003 was\n",
      "users in 2003 was 13.2075861 in Brazil by International Telecommunication Union. Poverty in 2003\n",
      "Poverty in 2003 was 12.6  in Brazil by World Bank, Poverty and Inequality Platform. Unemployment in\n",
      "Unemployment in 2003 was 11.17  in Brazil by International Labour Organization. Internet users in\n",
      "Internet users in 2004 was 19.07367227 in Brazil by International Telecommunication Union. Poverty\n",
      "Union. Poverty in 2004 was 11.1  in Brazil by World Bank, Poverty and Inequality Platform.\n",
      "Platform. Unemployment in 2004 was 10.07  in Brazil by International Labour Organization. Internet\n",
      "Internet users in 2005 was 21.02274725 in Brazil by International Telecommunication Union. Poverty\n",
      "Union. Poverty in 2005 was 10.0  in Brazil by World Bank, Poverty and Inequality Platform.\n",
      "Platform. Unemployment in 2005 was 10.55  in Brazil by International Labour Organization. Internet\n",
      "Internet users in 2006 was 28.17838018 in Brazil by International Telecommunication Union. Poverty\n",
      "Union. Poverty in 2006 was 8.3  in Brazil by World Bank, Poverty and Inequality Platform.\n",
      "Platform. Unemployment in 2006 was 9.69  in Brazil by International Labour Organization. Internet\n",
      "Internet users in 2007 was 30.88 in Brazil by International Telecommunication Union. Poverty in\n",
      "Union. Poverty in 2007 was 7.9  in Brazil by World Bank, Poverty and Inequality Platform.\n",
      "Platform. Unemployment in 2007 was 9.28  in Brazil by International Labour Organization. Internet\n",
      "Internet users in 2008 was 33.83 in Brazil by International Telecommunication Union. Poverty in\n",
      "Union. Poverty in 2008 was 6.5  in Brazil by World Bank, Poverty and Inequality Platform.\n",
      "Platform. Unemployment in 2008 was 8.27  in Brazil by International Labour Organization. Internet\n",
      "Internet users in 2009 was 39.22 in Brazil by International Telecommunication Union. Poverty in\n",
      "Union. Poverty in 2009 was 6.1  in Brazil by World Bank, Poverty and Inequality Platform.\n",
      "Platform. Unemployment in 2009 was 9.42  in Brazil by International Labour Organization. Internet\n",
      "Internet users in 2010 was 40.65 in Brazil by International Telecommunication Union. Poverty in\n",
      "Union. Poverty in 2010 was Data not available  in Brazil by World Bank, Poverty and Inequality\n",
      "and Inequality Platform. Unemployment in 2010 was 8.426  in Brazil by International Labour\n",
      "Labour Organization. Internet users in 2011 was 45.69 in Brazil by International Telecommunication\n",
      "Telecommunication Union. Poverty in 2011 was 5.3  in Brazil by World Bank, Poverty and Inequality\n",
      "and Inequality Platform. Unemployment in 2011 was 7.58  in Brazil by International Labour\n",
      "Labour Organization. Internet users in 2012 was 48.56 in Brazil by International Telecommunication\n",
      "Telecommunication Union. Poverty in 2012 was 4.5  in Brazil by World Bank, Poverty and Inequality\n",
      "and Inequality Platform. Unemployment in 2012 was 7.25  in Brazil by International Labour\n",
      "Labour Organization. Internet users in 2013 was 51.04 in Brazil by International Telecommunication\n",
      "Telecommunication Union. Poverty in 2013 was 3.7  in Brazil by World Bank, Poverty and Inequality\n",
      "and Inequality Platform. Unemployment in 2013 was 7.07  in Brazil by International Labour\n",
      "Labour Organization. Internet users in 2014 was 54.55100188 in Brazil by International\n",
      "by International Telecommunication Union. Poverty in 2014 was 3.3  in Brazil by World Bank, Poverty\n",
      "World Bank, Poverty and Inequality Platform. Unemployment in 2014 was 6.76  in Brazil by\n",
      "6.76  in Brazil by International Labour Organization. Internet users in 2015 was 58.32795173 in\n",
      "was 58.32795173 in Brazil by International Telecommunication Union. Poverty in 2015 was 3.9  in\n",
      "in 2015 was 3.9  in Brazil by World Bank, Poverty and Inequality Platform. Unemployment in 2015 was\n",
      "in 2015 was 8.54  in Brazil by International Labour Organization. Internet users in 2016 was\n",
      "users in 2016 was 60.87254007 in Brazil by International Telecommunication Union. Poverty in 2016\n",
      "Poverty in 2016 was 4.7  in Brazil by World Bank, Poverty and Inequality Platform. Unemployment in\n",
      "Unemployment in 2016 was 11.58  in Brazil by International Labour Organization. Internet users in\n",
      "Internet users in 2017 was 67.47128452 in Brazil by International Telecommunication Union. Poverty\n",
      "Union. Poverty in 2017 was 5.3  in Brazil by World Bank, Poverty and Inequality Platform.\n",
      "Platform. Unemployment in 2017 was 12.79  in Brazil by International Labour Organization. Internet\n",
      "Internet users in 2018 was 70.43428254 in Brazil by International Telecommunication Union. Poverty\n",
      "Union. Poverty in 2018 was 5.3  in Brazil by World Bank, Poverty and Inequality Platform.\n",
      "Platform. Unemployment in 2018 was 12.33  in Brazil by International Labour Organization. Internet\n",
      "Internet users in 2019 was 73.91243991 in Brazil by International Telecommunication Union. Poverty\n",
      "Union. Poverty in 2019 was 5.4  in Brazil by World Bank, Poverty and Inequality Platform.\n",
      "Platform. Unemployment in 2019 was 11.94  in Brazil by International Labour Organization. Internet\n",
      "Internet users in 2020 was 81.34269353 in Brazil by International Telecommunication Union. Poverty\n",
      "Union. Poverty in 2020 was 2.0  in Brazil by World Bank, Poverty and Inequality Platform.\n",
      "Platform. Unemployment in 2020 was 13.7  in Brazil by International Labour Organization. Internet\n",
      "Internet users in 2021 was 80.68989314 in Brazil by International Telecommunication Union. Poverty\n",
      "Union. Poverty in 2021 was 5.8  in Brazil by World Bank, Poverty and Inequality Platform.\n",
      "Platform. Unemployment in 2021 was 13.16  in Brazil by International Labour Organization. Internet\n",
      "Internet users in 2022 was 80.52775094 in Brazil by International Telecommunication Union. Poverty\n",
      "Union. Poverty in 2022 was 3.5  in Brazil by World Bank, Poverty and Inequality Platform.\n",
      "Platform. Unemployment in 2022 was 9.23  in Brazil by International Labour Organization. Internet\n",
      "Internet users in 2023 was Data not available in Brazil by International Telecommunication Union.\n",
      "Union. Poverty in 2023 was Data not available  in Brazil by World Bank, Poverty and Inequality\n",
      "and Inequality Platform. Unemployment in 2023 was 7.776  in Brazil by International Labour\n",
      "Labour Organization.\n"
     ]
    }
   ],
   "source": [
    "for t in text_chunks:\n",
    "    print(t.page_content)"
   ]
  },
  {
   "cell_type": "code",
   "execution_count": 84,
   "metadata": {},
   "outputs": [],
   "source": [
    "index_name= PINECONE_INDEX\n",
    "\n",
    "#Creating Embeddings for Each of The Text Chunks & storing\n",
    "docsearch=PineconeVectorStore.from_texts([t.page_content for t in text_chunks], index_name=index_name,embedding=embeddings)"
   ]
  },
  {
   "cell_type": "code",
   "execution_count": 104,
   "metadata": {},
   "outputs": [
    {
     "name": "stdout",
     "output_type": "stream",
     "text": [
      "Result [Document(page_content='Internet users in 2010 was 40.65 in Brazil by International Telecommunication Union. Poverty in'), Document(page_content='in 2015 was 8.54  in Brazil by International Labour Organization. Internet users in 2016 was'), Document(page_content='Internet users in 2000 was 2.870685159 in Brazil by International Telecommunication Union. Poverty'), Document(page_content='Internet users in 2006 was 28.17838018 in Brazil by International Telecommunication Union. Poverty'), Document(page_content='Internet users in 2005 was 21.02274725 in Brazil by International Telecommunication Union. Poverty')]\n"
     ]
    }
   ],
   "source": [
    "\n",
    "query = \"number of internet users in 2010\"\n",
    "\n",
    "docs=docsearch.similarity_search(query, k=5)\n",
    "\n",
    "print(\"Result\", docs)"
   ]
  },
  {
   "cell_type": "code",
   "execution_count": 143,
   "metadata": {},
   "outputs": [],
   "source": [
    "prompt_template=\"\"\"\n",
    "Use the following pieces of information to answer the user's question.\n",
    "If the question is not relevant to the context ask the user to ask a relevant question.\n",
    "Do not answer any irrelevant questions.\n",
    "If you don't know the answer, just say that you don't know, don't try to make up an answer.\n",
    "\n",
    "Context: {context}\n",
    "Question: {question}\n",
    "\n",
    "Only return the helpful answer below and nothing else.\n",
    "Helpful answer:\n",
    "\"\"\""
   ]
  },
  {
   "cell_type": "code",
   "execution_count": 144,
   "metadata": {},
   "outputs": [],
   "source": [
    "PROMPT=PromptTemplate(template=prompt_template, input_variables=[\"context\", \"question\"])\n",
    "chain_type_kwargs={\"prompt\": PROMPT}"
   ]
  },
  {
   "cell_type": "code",
   "execution_count": 145,
   "metadata": {},
   "outputs": [],
   "source": [
    "openai_llm = OpenAI(model=\"text-davinci-002\")"
   ]
  },
  {
   "cell_type": "code",
   "execution_count": 146,
   "metadata": {},
   "outputs": [],
   "source": [
    "llm=CTransformers(model=\"model/llama-2-7b-chat.ggmlv3.q4_0.bin\",\n",
    "                  model_type=\"llama\",\n",
    "                  config={'max_new_tokens':512,\n",
    "                          'temperature':0.3})"
   ]
  },
  {
   "cell_type": "code",
   "execution_count": 147,
   "metadata": {},
   "outputs": [],
   "source": [
    "llm4 = ChatOpenAI(\n",
    "    openai_api_key ##Insert your Key,\n",
    "    model_name='gpt-4',\n",
    "    temperature=0.0\n",
    ")"
   ]
  },
  {
   "cell_type": "code",
   "execution_count": 148,
   "metadata": {},
   "outputs": [],
   "source": [
    "# from langchain.schema.retriever import BaseRetriever, Document\n",
    "# from typing import List\n",
    "\n",
    "# class SimpleRetriever(BaseRetriever):\n",
    "#     def __init__(self, vector_store, k=5):\n",
    "#         self.vector_store = vector_store\n",
    "#         self.k = k\n",
    "\n",
    "#     def _get_relevant_documents(self, query: str) -> List[Document]:\n",
    "#         \"\"\"Retrieve documents based on embeddings similarity, limited to the top k results.\"\"\"\n",
    "#         # Assuming `vector_store` has a method `similarity_search` which takes a query and returns documents\n",
    "#         results = self.vector_store.similarity_search(query, k=self.k)\n",
    "#         return results\n",
    "\n",
    "#     async def _aget_relevant_documents(self, query: str) -> List[Document]:\n",
    "#         \"\"\"Asynchronous retrieval of documents.\"\"\"\n",
    "#         return await self.vector_store.similarity_search(query, k=self.k)\n"
   ]
  },
  {
   "cell_type": "code",
   "execution_count": 149,
   "metadata": {},
   "outputs": [],
   "source": [
    "from typing import List, Optional, Any  # Adding 'Any' to the import\n",
    "from langchain.schema import Document, BaseRetriever\n",
    "from pydantic import BaseModel, Field"
   ]
  },
  {
   "cell_type": "code",
   "execution_count": 150,
   "metadata": {},
   "outputs": [],
   "source": [
    "# from pydantic import BaseModel, Field\n",
    "# from typing import List, Optional\n",
    "# from langchain.schema import Document, BaseRetriever\n",
    "\n",
    "# class SimpleRetriever(BaseRetriever):\n",
    "#     vector_store: Any  # Specify the correct type if known, else use `Any`\n",
    "#     k: int = Field(default=5, description=\"The number of documents to retrieve\")\n",
    "\n",
    "#     def _get_relevant_documents(self, query: str) -> List[Document]:\n",
    "#         \"\"\"Retrieve documents based on embeddings similarity, limited to the top k results.\"\"\"\n",
    "#         # Simulate fetching documents based on a query\n",
    "#         # This is where you'd normally interact with the vector store\n",
    "#         return self.vector_store.get_relevant_documents(query, k=self.k)\n",
    "\n",
    "#     async def _aget_relevant_documents(self, query: str) -> List[Document]:\n",
    "#         \"\"\"Asynchronously retrieve documents.\"\"\"\n",
    "#         return await self.vector_store.get_relevant_documents(query, k=self.k)\n"
   ]
  },
  {
   "cell_type": "code",
   "execution_count": 151,
   "metadata": {},
   "outputs": [],
   "source": [
    "from langchain.schema import Document, BaseRetriever\n",
    "from typing import List, Any\n",
    "from pydantic import BaseModel, Field\n",
    "\n",
    "class SimpleRetriever(BaseRetriever):\n",
    "    vector_store: Any  # Specify the correct type if known, else use `Any`\n",
    "    k: int = Field(default=5, description=\"The number of documents to retrieve\")\n",
    "\n",
    "    def _get_relevant_documents(self, query: str) -> List[Document]:\n",
    "        \"\"\"Retrieve documents based on embeddings similarity, limited to the top k results using cosine similarity.\"\"\"\n",
    "        return self.vector_store.similarity_search(query=query, k=self.k)\n",
    "\n",
    "    async def _aget_relevant_documents(self, query: str) -> List[Document]:\n",
    "        \"\"\"Asynchronously retrieve documents using cosine similarity.\"\"\"\n",
    "        return await self.vector_store.similarity_search(query=query, k=self.k)\n"
   ]
  },
  {
   "cell_type": "code",
   "execution_count": 152,
   "metadata": {},
   "outputs": [],
   "source": [
    "# from langchain.schema import Document, BaseRetriever\n",
    "# from typing import List, Any\n",
    "# from pydantic import BaseModel, Field\n",
    "\n",
    "# class SimpleRetriever(BaseRetriever):\n",
    "#     vector_store: Any  # Specify the correct type if known, else use `Any`\n",
    "#     k: int = Field(default=5, description=\"The number of documents to retrieve\")\n",
    "\n",
    "#     def _get_relevant_documents(self, query: str) -> List[Document]:\n",
    "#         \"\"\"Retrieve documents based on embeddings similarity, limited to the top k results using cosine similarity.\"\"\"\n",
    "#         return self.vector_store.search(query=query, k=self.k, search_type='similarity')\n",
    "\n",
    "#     async def _aget_relevant_documents(self, query: str) -> List[Document]:\n",
    "#         \"\"\"Asynchronously retrieve documents using cosine similarity.\"\"\"\n",
    "#         return await self.vector_store.search(query=query, k=self.k, search_type='similarity')\n"
   ]
  },
  {
   "cell_type": "code",
   "execution_count": 153,
   "metadata": {},
   "outputs": [],
   "source": [
    "# Assuming docsearch is already set up as an instance of PineconeVectorStore\n",
    "simple_retriever = SimpleRetriever(vector_store=docsearch, k=5)\n"
   ]
  },
  {
   "cell_type": "code",
   "execution_count": 154,
   "metadata": {},
   "outputs": [],
   "source": [
    "doc = simple_retriever._get_relevant_documents(\"number of internet users in 2020\")"
   ]
  },
  {
   "cell_type": "code",
   "execution_count": 155,
   "metadata": {},
   "outputs": [
    {
     "data": {
      "text/plain": [
       "[Document(page_content='Internet users in 2020 was 81.34269353 in Brazil by International Telecommunication Union. Poverty'),\n",
       " Document(page_content='Internet users in 2022 was 80.52775094 in Brazil by International Telecommunication Union. Poverty'),\n",
       " Document(page_content='Internet users in 2021 was 80.68989314 in Brazil by International Telecommunication Union. Poverty'),\n",
       " Document(page_content='Internet users in 2019 was 73.91243991 in Brazil by International Telecommunication Union. Poverty'),\n",
       " Document(page_content='Internet users in 2018 was 70.43428254 in Brazil by International Telecommunication Union. Poverty')]"
      ]
     },
     "execution_count": 155,
     "metadata": {},
     "output_type": "execute_result"
    }
   ],
   "source": [
    "doc"
   ]
  },
  {
   "cell_type": "code",
   "execution_count": 156,
   "metadata": {},
   "outputs": [],
   "source": [
    "qa = RetrievalQA.from_chain_type(  \n",
    "    llm=llm4,  \n",
    "    chain_type=\"stuff\",  \n",
    "    retriever=simple_retriever,\n",
    "    chain_type_kwargs=chain_type_kwargs \n",
    ")  "
   ]
  },
  {
   "cell_type": "code",
   "execution_count": 163,
   "metadata": {},
   "outputs": [],
   "source": [
    "\n",
    "user_input=input(f\"Input Prompt:\")\n"
   ]
  },
  {
   "cell_type": "code",
   "execution_count": 164,
   "metadata": {},
   "outputs": [
    {
     "name": "stdout",
     "output_type": "stream",
     "text": [
      "Response :  This is not a relevant question related to the context provided.\n"
     ]
    }
   ],
   "source": [
    "result=qa({\"query\": user_input})\n",
    "print(\"Response : \", result[\"result\"])"
   ]
  },
  {
   "cell_type": "code",
   "execution_count": null,
   "metadata": {},
   "outputs": [],
   "source": []
  }
 ],
 "metadata": {
  "kernelspec": {
   "display_name": "chatbotRAG",
   "language": "python",
   "name": "python3"
  },
  "language_info": {
   "codemirror_mode": {
    "name": "ipython",
    "version": 3
   },
   "file_extension": ".py",
   "mimetype": "text/x-python",
   "name": "python",
   "nbconvert_exporter": "python",
   "pygments_lexer": "ipython3",
   "version": "3.8.19"
  }
 },
 "nbformat": 4,
 "nbformat_minor": 2
}
